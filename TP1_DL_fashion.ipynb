{
 "cells": [
  {
   "cell_type": "markdown",
   "metadata": {},
   "source": [
    "## Artificial Neural Networks with Keras"
   ]
  },
  {
   "cell_type": "code",
   "execution_count": 1,
   "metadata": {},
   "outputs": [],
   "source": [
    "# TensorFlow ≥2.0 is required\n",
    "import tensorflow as tf\n",
    "\n",
    "# Common imports\n",
    "import numpy as np\n",
    "import os\n",
    "\n",
    "# to make this notebook's output stable across runs\n",
    "np.random.seed(42)\n",
    "\n",
    "# To plot pretty figures\n",
    "%matplotlib inline\n",
    "import matplotlib as mpl\n",
    "import matplotlib.pyplot as plt\n",
    "mpl.rc('axes', labelsize=14)\n",
    "mpl.rc('xtick', labelsize=12)\n",
    "mpl.rc('ytick', labelsize=12)\n",
    "\n",
    "# Ignore useless warnings (see SciPy issue #5998)\n",
    "import warnings\n",
    "warnings.filterwarnings(action=\"ignore\", message=\"^internal gelsd\")"
   ]
  },
  {
   "cell_type": "markdown",
   "metadata": {},
   "source": [
    "## construction  d'un classificateur des images "
   ]
  },
  {
   "cell_type": "code",
   "execution_count": 2,
   "metadata": {},
   "outputs": [],
   "source": [
    "from tensorflow import keras"
   ]
  },
  {
   "cell_type": "code",
   "execution_count": 3,
   "metadata": {},
   "outputs": [
    {
     "data": {
      "text/plain": [
       "'2.3.1'"
      ]
     },
     "execution_count": 3,
     "metadata": {},
     "output_type": "execute_result"
    }
   ],
   "source": [
    "tf.__version__"
   ]
  },
  {
   "cell_type": "markdown",
   "metadata": {},
   "source": [
    "On a importer des données qui sont disponibles dans keras , sont un ensemble de 60000 images de vêtements  , qu'on va diviser par la suite en deux parties 50000 pour la formation  et 10000 de teste. (chaque image est  de dimension 28*28)"
   ]
  },
  {
   "cell_type": "code",
   "execution_count": 4,
   "metadata": {},
   "outputs": [],
   "source": [
    "fashion_mnist = keras.datasets.fashion_mnist\n",
    "(X_train_full, y_train_full), (X_test, y_test) = fashion_mnist.load_data()"
   ]
  },
  {
   "cell_type": "code",
   "execution_count": 5,
   "metadata": {},
   "outputs": [
    {
     "data": {
      "text/plain": [
       "(60000, 28, 28)"
      ]
     },
     "execution_count": 5,
     "metadata": {},
     "output_type": "execute_result"
    }
   ],
   "source": [
    "X_train_full.shape"
   ]
  },
  {
   "cell_type": "markdown",
   "metadata": {},
   "source": [
    "chaque pixel est représenté comme  un bit (0 à 255)"
   ]
  },
  {
   "cell_type": "code",
   "execution_count": 6,
   "metadata": {},
   "outputs": [
    {
     "data": {
      "text/plain": [
       "dtype('uint8')"
      ]
     },
     "execution_count": 6,
     "metadata": {},
     "output_type": "execute_result"
    }
   ],
   "source": [
    "X_train_full.dtype"
   ]
  },
  {
   "cell_type": "markdown",
   "metadata": {},
   "source": [
    "* On redivise les données de formation en 2 : 5000 données de validation et le reste reste pour former le modele(formation).\n",
    "* on binarise les images  (divison sur 255)."
   ]
  },
  {
   "cell_type": "code",
   "execution_count": 7,
   "metadata": {},
   "outputs": [],
   "source": [
    "X_valid, X_train = X_train_full[:5000] / 255., X_train_full[5000:] / 255.\n",
    "y_valid, y_train = y_train_full[:5000], y_train_full[5000:]\n",
    "X_test = X_test / 255."
   ]
  },
  {
   "cell_type": "markdown",
   "metadata": {},
   "source": [
    "Vérification des images"
   ]
  },
  {
   "cell_type": "code",
   "execution_count": 8,
   "metadata": {},
   "outputs": [
    {
     "data": {
      "image/png": "[encoded data removed]",
      "text/plain": [
       "<Figure size 432x288 with 1 Axes>"
      ]
     },
     "metadata": {
      "needs_background": "light"
     },
     "output_type": "display_data"
    }
   ],
   "source": [
    "plt.imshow(X_train[0], cmap=\"binary\")\n",
    "plt.axis('off')\n",
    "plt.show()"
   ]
  },
  {
   "cell_type": "markdown",
   "metadata": {},
   "source": [
    "vérification des classes , en total on a 10 classe"
   ]
  },
  {
   "cell_type": "code",
   "execution_count": 9,
   "metadata": {},
   "outputs": [
    {
     "data": {
      "text/plain": [
       "array([4, 0, 7, ..., 3, 0, 5], dtype=uint8)"
      ]
     },
     "execution_count": 9,
     "metadata": {},
     "output_type": "execute_result"
    }
   ],
   "source": [
    "y_train\n"
   ]
  },
  {
   "cell_type": "markdown",
   "metadata": {},
   "source": [
    "nommer les 10 classes"
   ]
  },
  {
   "cell_type": "code",
   "execution_count": 10,
   "metadata": {},
   "outputs": [],
   "source": [
    "class_names = [\"T-shirt/top\", \"Trouser\", \"Pullover\", \"Dress\", \"Coat\",\n",
    "               \"Sandal\", \"Shirt\", \"Sneaker\", \"Bag\", \"Ankle boot\"]"
   ]
  },
  {
   "cell_type": "code",
   "execution_count": 11,
   "metadata": {},
   "outputs": [
    {
     "data": {
      "text/plain": [
       "'Coat'"
      ]
     },
     "execution_count": 11,
     "metadata": {},
     "output_type": "execute_result"
    }
   ],
   "source": [
    "class_names[y_train[0]]"
   ]
  },
  {
   "cell_type": "code",
   "execution_count": 12,
   "metadata": {},
   "outputs": [
    {
     "data": {
      "text/plain": [
       "(5000, 28, 28)"
      ]
     },
     "execution_count": 12,
     "metadata": {},
     "output_type": "execute_result"
    }
   ],
   "source": [
    "X_valid.shape"
   ]
  },
  {
   "cell_type": "code",
   "execution_count": 13,
   "metadata": {},
   "outputs": [
    {
     "data": {
      "text/plain": [
       "(10000, 28, 28)"
      ]
     },
     "execution_count": 13,
     "metadata": {},
     "output_type": "execute_result"
    }
   ],
   "source": [
    "X_test.shape"
   ]
  },
  {
   "cell_type": "code",
   "execution_count": 14,
   "metadata": {},
   "outputs": [
    {
     "data": {
      "image/png": "[encoded data removed]",
      "text/plain": [
       "<Figure size 864x345.6 with 40 Axes>"
      ]
     },
     "metadata": {
      "needs_background": "light"
     },
     "output_type": "display_data"
    }
   ],
   "source": [
    "n_rows = 4\n",
    "n_cols = 10\n",
    "plt.figure(figsize=(n_cols * 1.2, n_rows * 1.2))\n",
    "for row in range(n_rows):\n",
    "    for col in range(n_cols):\n",
    "        index = n_cols * row + col\n",
    "        plt.subplot(n_rows, n_cols, index + 1)\n",
    "        plt.imshow(X_train[index], cmap=\"binary\", interpolation=\"nearest\")\n",
    "        plt.axis('off')\n",
    "        plt.title(class_names[y_train[index]], fontsize=12)\n",
    "plt.subplots_adjust(wspace=0.2, hspace=0.5)\n",
    "plt.show()"
   ]
  },
  {
   "cell_type": "markdown",
   "metadata": {},
   "source": [
    "## Construction du  Modèle"
   ]
  },
  {
   "cell_type": "markdown",
   "metadata": {},
   "source": [
    "### model 1 (optimizer ADAM)"
   ]
  },
  {
   "cell_type": "code",
   "execution_count": 15,
   "metadata": {},
   "outputs": [],
   "source": [
    "model1 = keras.models.Sequential()\n",
    "model1.add(keras.layers.Flatten(input_shape=[28, 28]))\n",
    "model1.add(keras.layers.Dense(300, activation=\"relu\"))\n",
    "model1.add(keras.layers.Dense(100, activation=\"relu\"))\n",
    "model1.add(keras.layers.Dense(10, activation=\"softmax\"))"
   ]
  },
  {
   "cell_type": "code",
   "execution_count": 16,
   "metadata": {},
   "outputs": [
    {
     "data": {
      "text/plain": [
       "[<tensorflow.python.keras.layers.core.Flatten at 0x13a58b83948>,\n",
       " <tensorflow.python.keras.layers.core.Dense at 0x13a58b83488>,\n",
       " <tensorflow.python.keras.layers.core.Dense at 0x13a58a22408>,\n",
       " <tensorflow.python.keras.layers.core.Dense at 0x13a58a37448>]"
      ]
     },
     "execution_count": 16,
     "metadata": {},
     "output_type": "execute_result"
    }
   ],
   "source": [
    "model1.layers"
   ]
  },
  {
   "cell_type": "code",
   "execution_count": 17,
   "metadata": {},
   "outputs": [
    {
     "name": "stdout",
     "output_type": "stream",
     "text": [
      "Model: \"sequential\"\n",
      "_________________________________________________________________\n",
      "Layer (type)                 Output Shape              Param #   \n",
      "=================================================================\n",
      "flatten (Flatten)            (None, 784)               0         \n",
      "_________________________________________________________________\n",
      "dense (Dense)                (None, 300)               235500    \n",
      "_________________________________________________________________\n",
      "dense_1 (Dense)              (None, 100)               30100     \n",
      "_________________________________________________________________\n",
      "dense_2 (Dense)              (None, 10)                1010      \n",
      "=================================================================\n",
      "Total params: 266,610\n",
      "Trainable params: 266,610\n",
      "Non-trainable params: 0\n",
      "_________________________________________________________________\n"
     ]
    }
   ],
   "source": [
    "model1.summary()"
   ]
  },
  {
   "cell_type": "code",
   "execution_count": 18,
   "metadata": {},
   "outputs": [],
   "source": [
    "hidden1_model1 = model1.layers[1]"
   ]
  },
  {
   "cell_type": "code",
   "execution_count": 19,
   "metadata": {},
   "outputs": [],
   "source": [
    "weights1, biases1 = hidden1_model1.get_weights()"
   ]
  },
  {
   "cell_type": "code",
   "execution_count": 20,
   "metadata": {},
   "outputs": [
    {
     "data": {
      "text/plain": [
       "(784, 300)"
      ]
     },
     "execution_count": 20,
     "metadata": {},
     "output_type": "execute_result"
    }
   ],
   "source": [
    "weights1.shape"
   ]
  },
  {
   "cell_type": "code",
   "execution_count": 21,
   "metadata": {},
   "outputs": [
    {
     "data": {
      "text/plain": [
       "(300,)"
      ]
     },
     "execution_count": 21,
     "metadata": {},
     "output_type": "execute_result"
    }
   ],
   "source": [
    "biases1.shape"
   ]
  },
  {
   "cell_type": "markdown",
   "metadata": {},
   "source": [
    "## Formation et compilation"
   ]
  },
  {
   "cell_type": "code",
   "execution_count": 22,
   "metadata": {},
   "outputs": [],
   "source": [
    "# with optimizer ADAM\n",
    "model1.compile(loss=\"sparse_categorical_crossentropy\",\n",
    "            optimizer=\"Adam\",\n",
    "           metrics=[\"accuracy\"])"
   ]
  },
  {
   "cell_type": "code",
   "execution_count": 23,
   "metadata": {},
   "outputs": [
    {
     "name": "stdout",
     "output_type": "stream",
     "text": [
      "Epoch 1/30\n",
      "1834/1834 [==============================] - 6s 3ms/step - loss: 0.4874 - accuracy: 0.8241 - val_loss: 0.3864 - val_accuracy: 0.8552\n",
      "Epoch 2/30\n",
      "1834/1834 [==============================] - 5s 3ms/step - loss: 0.3680 - accuracy: 0.8644 - val_loss: 0.3489 - val_accuracy: 0.8746\n",
      "Epoch 3/30\n",
      "1834/1834 [==============================] - 5s 3ms/step - loss: 0.3282 - accuracy: 0.8792 - val_loss: 0.3287 - val_accuracy: 0.8834\n",
      "Epoch 4/30\n",
      "1834/1834 [==============================] - 5s 3ms/step - loss: 0.3071 - accuracy: 0.8873 - val_loss: 0.2996 - val_accuracy: 0.8916\n",
      "Epoch 5/30\n",
      "1834/1834 [==============================] - 5s 3ms/step - loss: 0.2843 - accuracy: 0.8947 - val_loss: 0.3131 - val_accuracy: 0.8878\n",
      "Epoch 6/30\n",
      "1834/1834 [==============================] - 4s 2ms/step - loss: 0.2703 - accuracy: 0.8992 - val_loss: 0.3027 - val_accuracy: 0.8930\n",
      "Epoch 7/30\n",
      "1834/1834 [==============================] - 5s 3ms/step - loss: 0.2593 - accuracy: 0.9031 - val_loss: 0.2945 - val_accuracy: 0.8938\n",
      "Epoch 8/30\n",
      "1834/1834 [==============================] - 4s 2ms/step - loss: 0.2456 - accuracy: 0.9070 - val_loss: 0.3159 - val_accuracy: 0.8882\n",
      "Epoch 9/30\n",
      "1834/1834 [==============================] - 4s 2ms/step - loss: 0.2363 - accuracy: 0.9108 - val_loss: 0.3201 - val_accuracy: 0.8894\n",
      "Epoch 10/30\n",
      "1834/1834 [==============================] - 5s 3ms/step - loss: 0.2260 - accuracy: 0.9140 - val_loss: 0.3062 - val_accuracy: 0.8976\n",
      "Epoch 11/30\n",
      "1834/1834 [==============================] - 5s 3ms/step - loss: 0.2196 - accuracy: 0.9173 - val_loss: 0.3242 - val_accuracy: 0.8924\n",
      "Epoch 12/30\n",
      "1834/1834 [==============================] - 5s 2ms/step - loss: 0.2109 - accuracy: 0.9194 - val_loss: 0.3240 - val_accuracy: 0.8952\n",
      "Epoch 13/30\n",
      "1834/1834 [==============================] - 4s 2ms/step - loss: 0.2044 - accuracy: 0.9225 - val_loss: 0.3437 - val_accuracy: 0.8906\n",
      "Epoch 14/30\n",
      "1834/1834 [==============================] - 5s 2ms/step - loss: 0.1978 - accuracy: 0.9247 - val_loss: 0.3208 - val_accuracy: 0.8952\n",
      "Epoch 15/30\n",
      "1834/1834 [==============================] - 5s 3ms/step - loss: 0.1921 - accuracy: 0.9267 - val_loss: 0.3640 - val_accuracy: 0.8932\n",
      "Epoch 16/30\n",
      "1834/1834 [==============================] - 5s 3ms/step - loss: 0.1864 - accuracy: 0.9283 - val_loss: 0.3439 - val_accuracy: 0.8974\n",
      "Epoch 17/30\n",
      "1834/1834 [==============================] - 5s 3ms/step - loss: 0.1773 - accuracy: 0.9318 - val_loss: 0.3385 - val_accuracy: 0.8966\n",
      "Epoch 18/30\n",
      "1834/1834 [==============================] - 5s 3ms/step - loss: 0.1756 - accuracy: 0.9325 - val_loss: 0.3517 - val_accuracy: 0.8932\n",
      "Epoch 19/30\n",
      "1834/1834 [==============================] - 5s 3ms/step - loss: 0.1700 - accuracy: 0.9351 - val_loss: 0.3402 - val_accuracy: 0.9036\n",
      "Epoch 20/30\n",
      "1834/1834 [==============================] - 4s 2ms/step - loss: 0.1653 - accuracy: 0.9363 - val_loss: 0.3579 - val_accuracy: 0.8934\n",
      "Epoch 21/30\n",
      "1834/1834 [==============================] - 4s 2ms/step - loss: 0.1620 - accuracy: 0.9380 - val_loss: 0.6150 - val_accuracy: 0.8692\n",
      "Epoch 22/30\n",
      "1834/1834 [==============================] - 4s 2ms/step - loss: 0.1560 - accuracy: 0.9399 - val_loss: 0.3619 - val_accuracy: 0.9004\n",
      "Epoch 23/30\n",
      "1834/1834 [==============================] - 4s 2ms/step - loss: 0.1525 - accuracy: 0.9425 - val_loss: 0.3799 - val_accuracy: 0.8972\n",
      "Epoch 24/30\n",
      "1834/1834 [==============================] - 4s 2ms/step - loss: 0.1500 - accuracy: 0.9421 - val_loss: 0.3740 - val_accuracy: 0.9002\n",
      "Epoch 25/30\n",
      "1834/1834 [==============================] - 5s 3ms/step - loss: 0.1447 - accuracy: 0.9443 - val_loss: 0.3982 - val_accuracy: 0.8976\n",
      "Epoch 26/30\n",
      "1834/1834 [==============================] - 5s 3ms/step - loss: 0.1409 - accuracy: 0.9447 - val_loss: 0.3989 - val_accuracy: 0.9072\n",
      "Epoch 27/30\n",
      "1834/1834 [==============================] - 5s 3ms/step - loss: 0.1395 - accuracy: 0.9468 - val_loss: 0.4256 - val_accuracy: 0.8962\n",
      "Epoch 28/30\n",
      "1834/1834 [==============================] - 5s 3ms/step - loss: 0.1338 - accuracy: 0.9475 - val_loss: 0.3960 - val_accuracy: 0.9004\n",
      "Epoch 29/30\n",
      "1834/1834 [==============================] - 5s 3ms/step - loss: 0.1311 - accuracy: 0.9501 - val_loss: 0.4343 - val_accuracy: 0.8896\n",
      "Epoch 30/30\n",
      "1834/1834 [==============================] - 5s 3ms/step - loss: 0.1325 - accuracy: 0.9477 - val_loss: 0.4225 - val_accuracy: 0.8988\n"
     ]
    }
   ],
   "source": [
    "history1 = model1.fit(X_train, y_train, batch_size=30, epochs=30,\n",
    "                    validation_data=(X_valid, y_valid))"
   ]
  },
  {
   "cell_type": "code",
   "execution_count": 24,
   "metadata": {},
   "outputs": [
    {
     "data": {
      "text/plain": [
       "{'verbose': 1, 'epochs': 30, 'steps': 1834}"
      ]
     },
     "execution_count": 24,
     "metadata": {},
     "output_type": "execute_result"
    }
   ],
   "source": [
    "history1.params"
   ]
  },
  {
   "cell_type": "code",
   "execution_count": 25,
   "metadata": {},
   "outputs": [
    {
     "name": "stdout",
     "output_type": "stream",
     "text": [
      "[0, 1, 2, 3, 4, 5, 6, 7, 8, 9, 10, 11, 12, 13, 14, 15, 16, 17, 18, 19, 20, 21, 22, 23, 24, 25, 26, 27, 28, 29]\n"
     ]
    }
   ],
   "source": [
    "print(history1.epoch)"
   ]
  },
  {
   "cell_type": "code",
   "execution_count": 26,
   "metadata": {},
   "outputs": [
    {
     "data": {
      "text/plain": [
       "dict_keys(['loss', 'accuracy', 'val_loss', 'val_accuracy'])"
      ]
     },
     "execution_count": 26,
     "metadata": {},
     "output_type": "execute_result"
    }
   ],
   "source": [
    "history1.history.keys()"
   ]
  },
  {
   "cell_type": "markdown",
   "metadata": {},
   "source": [
    "## plot learning Curves"
   ]
  },
  {
   "cell_type": "code",
   "execution_count": 27,
   "metadata": {},
   "outputs": [
    {
     "data": {
      "image/png": "[encoded data removed]",
      "text/plain": [
       "<Figure size 576x360 with 1 Axes>"
      ]
     },
     "metadata": {
      "needs_background": "light"
     },
     "output_type": "display_data"
    }
   ],
   "source": [
    "import pandas as pd\n",
    "\n",
    "pd.DataFrame(history1.history).plot(figsize=(8, 5))\n",
    "plt.grid(True)\n",
    "plt.gca().set_ylim(0, 1)\n",
    "plt.show()"
   ]
  },
  {
   "cell_type": "markdown",
   "metadata": {},
   "source": [
    "## appliquer la prediction sur les données du test"
   ]
  },
  {
   "cell_type": "code",
   "execution_count": 28,
   "metadata": {},
   "outputs": [
    {
     "name": "stdout",
     "output_type": "stream",
     "text": [
      "313/313 [==============================] - 1s 2ms/step - loss: 0.4388 - accuracy: 0.8933\n"
     ]
    }
   ],
   "source": [
    "predict_test1=model1.evaluate(X_test, y_test)"
   ]
  },
  {
   "cell_type": "code",
   "execution_count": 29,
   "metadata": {},
   "outputs": [],
   "source": [
    "X_new = X_test[:3]\n"
   ]
  },
  {
   "cell_type": "code",
   "execution_count": 30,
   "metadata": {},
   "outputs": [
    {
     "data": {
      "text/plain": [
       "array([[0., 0., 0., 0., 0., 0., 0., 0., 0., 1.],\n",
       "       [0., 0., 1., 0., 0., 0., 0., 0., 0., 0.],\n",
       "       [0., 1., 0., 0., 0., 0., 0., 0., 0., 0.]], dtype=float32)"
      ]
     },
     "execution_count": 30,
     "metadata": {},
     "output_type": "execute_result"
    }
   ],
   "source": [
    "y_proba = model1.predict(X_new)\n",
    "y_proba.round(2)"
   ]
  },
  {
   "cell_type": "code",
   "execution_count": 31,
   "metadata": {},
   "outputs": [
    {
     "name": "stdout",
     "output_type": "stream",
     "text": [
      "WARNING:tensorflow:From <ipython-input-31-97d66773ad4e>:1: Sequential.predict_classes (from tensorflow.python.keras.engine.sequential) is deprecated and will be removed after 2021-01-01.\n",
      "Instructions for updating:\n",
      "Please use instead:* `np.argmax(model.predict(x), axis=-1)`,   if your model does multi-class classification   (e.g. if it uses a `softmax` last-layer activation).* `(model.predict(x) > 0.5).astype(\"int32\")`,   if your model does binary classification   (e.g. if it uses a `sigmoid` last-layer activation).\n"
     ]
    },
    {
     "data": {
      "text/plain": [
       "array([9, 2, 1], dtype=int64)"
      ]
     },
     "execution_count": 31,
     "metadata": {},
     "output_type": "execute_result"
    }
   ],
   "source": [
    "y_pred1 = model1.predict_classes(X_new)\n",
    "y_pred1"
   ]
  },
  {
   "cell_type": "code",
   "execution_count": 32,
   "metadata": {},
   "outputs": [
    {
     "data": {
      "text/plain": [
       "array(['Ankle boot', 'Pullover', 'Trouser'], dtype='<U11')"
      ]
     },
     "execution_count": 32,
     "metadata": {},
     "output_type": "execute_result"
    }
   ],
   "source": [
    "np.array(class_names)[y_pred1]"
   ]
  },
  {
   "cell_type": "code",
   "execution_count": 33,
   "metadata": {},
   "outputs": [
    {
     "data": {
      "text/plain": [
       "array([9, 2, 1], dtype=uint8)"
      ]
     },
     "execution_count": 33,
     "metadata": {},
     "output_type": "execute_result"
    }
   ],
   "source": [
    "y_new = y_test[:3]\n",
    "y_new"
   ]
  },
  {
   "cell_type": "code",
   "execution_count": 34,
   "metadata": {},
   "outputs": [
    {
     "data": {
      "image/png": "[encoded data removed]",
      "text/plain": [
       "<Figure size 518.4x172.8 with 3 Axes>"
      ]
     },
     "metadata": {
      "needs_background": "light"
     },
     "output_type": "display_data"
    }
   ],
   "source": [
    "plt.figure(figsize=(7.2, 2.4))\n",
    "for index, image in enumerate(X_new):\n",
    "    plt.subplot(1, 3, index + 1)\n",
    "    plt.imshow(image, cmap=\"binary\", interpolation=\"nearest\")\n",
    "    plt.axis('off')\n",
    "    plt.title(class_names[y_test[index]], fontsize=12)\n",
    "plt.subplots_adjust(wspace=0.2, hspace=0.5)\n",
    "plt.show()"
   ]
  },
  {
   "cell_type": "markdown",
   "metadata": {},
   "source": [
    "### model 2 (optimizer stochastic gradient descent)"
   ]
  },
  {
   "cell_type": "code",
   "execution_count": 35,
   "metadata": {},
   "outputs": [],
   "source": [
    "model2 = keras.models.Sequential()\n",
    "model2.add(keras.layers.Flatten(input_shape=[28, 28]))\n",
    "model2.add(keras.layers.Dense(300, activation=\"relu\"))\n",
    "model2.add(keras.layers.Dense(100, activation=\"relu\"))\n",
    "model2.add(keras.layers.Dense(10, activation=\"softmax\"))"
   ]
  },
  {
   "cell_type": "code",
   "execution_count": 36,
   "metadata": {},
   "outputs": [
    {
     "data": {
      "text/plain": [
       "[<tensorflow.python.keras.layers.core.Flatten at 0x13a663c8188>,\n",
       " <tensorflow.python.keras.layers.core.Dense at 0x13a64571f48>,\n",
       " <tensorflow.python.keras.layers.core.Dense at 0x13a645a5908>,\n",
       " <tensorflow.python.keras.layers.core.Dense at 0x13a645ac508>]"
      ]
     },
     "execution_count": 36,
     "metadata": {},
     "output_type": "execute_result"
    }
   ],
   "source": [
    "model2.layers"
   ]
  },
  {
   "cell_type": "code",
   "execution_count": 37,
   "metadata": {},
   "outputs": [
    {
     "name": "stdout",
     "output_type": "stream",
     "text": [
      "Model: \"sequential_1\"\n",
      "_________________________________________________________________\n",
      "Layer (type)                 Output Shape              Param #   \n",
      "=================================================================\n",
      "flatten_1 (Flatten)          (None, 784)               0         \n",
      "_________________________________________________________________\n",
      "dense_3 (Dense)              (None, 300)               235500    \n",
      "_________________________________________________________________\n",
      "dense_4 (Dense)              (None, 100)               30100     \n",
      "_________________________________________________________________\n",
      "dense_5 (Dense)              (None, 10)                1010      \n",
      "=================================================================\n",
      "Total params: 266,610\n",
      "Trainable params: 266,610\n",
      "Non-trainable params: 0\n",
      "_________________________________________________________________\n"
     ]
    }
   ],
   "source": [
    "model2.summary()"
   ]
  },
  {
   "cell_type": "code",
   "execution_count": 38,
   "metadata": {},
   "outputs": [],
   "source": [
    "hidden1_model2 = model2.layers[1]"
   ]
  },
  {
   "cell_type": "code",
   "execution_count": 39,
   "metadata": {},
   "outputs": [],
   "source": [
    "weights2, biases2 = hidden1_model2.get_weights()"
   ]
  },
  {
   "cell_type": "code",
   "execution_count": 40,
   "metadata": {},
   "outputs": [
    {
     "data": {
      "text/plain": [
       "array([[-0.06188987,  0.03078071, -0.0116436 , ..., -0.02056277,\n",
       "        -0.04766956,  0.03716654],\n",
       "       [-0.04267802, -0.06821448,  0.05903344, ..., -0.02370716,\n",
       "         0.02531915, -0.00453624],\n",
       "       [-0.02377374, -0.05635609,  0.00452206, ..., -0.06514991,\n",
       "        -0.06617848, -0.06555966],\n",
       "       ...,\n",
       "       [-0.02813648,  0.03183053,  0.03878612, ..., -0.06685881,\n",
       "         0.0401952 , -0.03346665],\n",
       "       [-0.07427444,  0.02129915, -0.01280435, ...,  0.0221287 ,\n",
       "         0.02743587,  0.06581225],\n",
       "       [ 0.04449228, -0.00814562, -0.00682849, ..., -0.06540206,\n",
       "        -0.00849487, -0.03124463]], dtype=float32)"
      ]
     },
     "execution_count": 40,
     "metadata": {},
     "output_type": "execute_result"
    }
   ],
   "source": [
    "weights2"
   ]
  },
  {
   "cell_type": "code",
   "execution_count": 41,
   "metadata": {},
   "outputs": [
    {
     "data": {
      "text/plain": [
       "(784, 300)"
      ]
     },
     "execution_count": 41,
     "metadata": {},
     "output_type": "execute_result"
    }
   ],
   "source": [
    "weights2.shape"
   ]
  },
  {
   "cell_type": "code",
   "execution_count": 42,
   "metadata": {},
   "outputs": [],
   "source": [
    "#with optimizer stochastic gradient descent\n",
    "model2.compile(loss=\"sparse_categorical_crossentropy\",\n",
    "              optimizer=\"sgd\",\n",
    "              metrics=[\"accuracy\"])"
   ]
  },
  {
   "cell_type": "code",
   "execution_count": 90,
   "metadata": {},
   "outputs": [
    {
     "name": "stdout",
     "output_type": "stream",
     "text": [
      "Epoch 1/50\n",
      "1719/1719 [==============================] - 4s 2ms/step - loss: 0.0953 - accuracy: 0.9672 - val_loss: 0.3445 - val_accuracy: 0.8914\n",
      "Epoch 2/50\n",
      "1719/1719 [==============================] - 4s 2ms/step - loss: 0.0933 - accuracy: 0.9682 - val_loss: 0.3364 - val_accuracy: 0.8936\n",
      "Epoch 3/50\n",
      "1719/1719 [==============================] - 4s 2ms/step - loss: 0.0933 - accuracy: 0.9671 - val_loss: 0.3514 - val_accuracy: 0.8962\n",
      "Epoch 4/50\n",
      "1719/1719 [==============================] - 4s 2ms/step - loss: 0.0897 - accuracy: 0.9699 - val_loss: 0.3557 - val_accuracy: 0.8968\n",
      "Epoch 5/50\n",
      "1719/1719 [==============================] - 4s 2ms/step - loss: 0.0882 - accuracy: 0.9696 - val_loss: 0.3685 - val_accuracy: 0.8918\n",
      "Epoch 6/50\n",
      "1719/1719 [==============================] - 4s 2ms/step - loss: 0.0876 - accuracy: 0.9699 - val_loss: 0.3619 - val_accuracy: 0.8948\n",
      "Epoch 7/50\n",
      "1719/1719 [==============================] - 4s 2ms/step - loss: 0.0873 - accuracy: 0.9695 - val_loss: 0.4480 - val_accuracy: 0.8810\n",
      "Epoch 8/50\n",
      "1719/1719 [==============================] - 4s 2ms/step - loss: 0.0855 - accuracy: 0.9711 - val_loss: 0.3679 - val_accuracy: 0.8888\n",
      "Epoch 9/50\n",
      "1719/1719 [==============================] - 4s 2ms/step - loss: 0.0827 - accuracy: 0.9725 - val_loss: 0.3658 - val_accuracy: 0.8880\n",
      "Epoch 10/50\n",
      "1719/1719 [==============================] - 4s 2ms/step - loss: 0.0811 - accuracy: 0.9726 - val_loss: 0.3936 - val_accuracy: 0.8898\n",
      "Epoch 11/50\n",
      "1719/1719 [==============================] - 4s 2ms/step - loss: 0.0793 - accuracy: 0.9730 - val_loss: 0.3754 - val_accuracy: 0.8924\n",
      "Epoch 12/50\n",
      "1719/1719 [==============================] - 4s 2ms/step - loss: 0.0785 - accuracy: 0.9730 - val_loss: 0.3729 - val_accuracy: 0.8942\n",
      "Epoch 13/50\n",
      "1719/1719 [==============================] - 5s 3ms/step - loss: 0.0765 - accuracy: 0.9735 - val_loss: 0.3672 - val_accuracy: 0.8930\n",
      "Epoch 14/50\n",
      "1719/1719 [==============================] - 5s 3ms/step - loss: 0.0758 - accuracy: 0.9748 - val_loss: 0.3639 - val_accuracy: 0.8980\n",
      "Epoch 15/50\n",
      "1719/1719 [==============================] - 4s 2ms/step - loss: 0.0739 - accuracy: 0.9756 - val_loss: 0.3943 - val_accuracy: 0.8912\n",
      "Epoch 16/50\n",
      "1719/1719 [==============================] - 4s 2ms/step - loss: 0.0730 - accuracy: 0.9752 - val_loss: 0.3752 - val_accuracy: 0.8892\n",
      "Epoch 17/50\n",
      "1719/1719 [==============================] - 4s 2ms/step - loss: 0.0733 - accuracy: 0.9752 - val_loss: 0.4132 - val_accuracy: 0.8890\n",
      "Epoch 18/50\n",
      "1719/1719 [==============================] - 4s 2ms/step - loss: 0.0716 - accuracy: 0.9753 - val_loss: 0.3852 - val_accuracy: 0.8938\n",
      "Epoch 19/50\n",
      "1719/1719 [==============================] - 4s 2ms/step - loss: 0.0699 - accuracy: 0.9765 - val_loss: 0.3762 - val_accuracy: 0.8918\n",
      "Epoch 20/50\n",
      "1719/1719 [==============================] - 4s 2ms/step - loss: 0.0677 - accuracy: 0.9764 - val_loss: 0.3983 - val_accuracy: 0.8906\n",
      "Epoch 21/50\n",
      "1719/1719 [==============================] - 4s 2ms/step - loss: 0.0682 - accuracy: 0.9765 - val_loss: 0.3646 - val_accuracy: 0.8984\n",
      "Epoch 22/50\n",
      "1719/1719 [==============================] - 4s 2ms/step - loss: 0.0677 - accuracy: 0.9771 - val_loss: 0.3842 - val_accuracy: 0.8952\n",
      "Epoch 23/50\n",
      "1719/1719 [==============================] - 4s 2ms/step - loss: 0.0640 - accuracy: 0.9789 - val_loss: 0.3770 - val_accuracy: 0.8942\n",
      "Epoch 24/50\n",
      "1719/1719 [==============================] - 4s 2ms/step - loss: 0.0632 - accuracy: 0.9790 - val_loss: 0.3860 - val_accuracy: 0.9006\n",
      "Epoch 25/50\n",
      "1719/1719 [==============================] - 4s 2ms/step - loss: 0.0635 - accuracy: 0.9790 - val_loss: 0.4105 - val_accuracy: 0.8872\n",
      "Epoch 26/50\n",
      "1719/1719 [==============================] - 4s 2ms/step - loss: 0.0620 - accuracy: 0.9792 - val_loss: 0.3879 - val_accuracy: 0.8950\n",
      "Epoch 27/50\n",
      "1719/1719 [==============================] - 4s 2ms/step - loss: 0.0605 - accuracy: 0.9797 - val_loss: 0.3828 - val_accuracy: 0.8950\n",
      "Epoch 28/50\n",
      "1719/1719 [==============================] - 4s 2ms/step - loss: 0.0604 - accuracy: 0.9802 - val_loss: 0.3982 - val_accuracy: 0.8948\n",
      "Epoch 29/50\n",
      "1719/1719 [==============================] - 4s 2ms/step - loss: 0.0586 - accuracy: 0.9801 - val_loss: 0.3881 - val_accuracy: 0.8948\n",
      "Epoch 30/50\n",
      "1719/1719 [==============================] - 4s 2ms/step - loss: 0.0573 - accuracy: 0.9806 - val_loss: 0.3915 - val_accuracy: 0.8950\n",
      "Epoch 31/50\n",
      "1719/1719 [==============================] - 4s 2ms/step - loss: 0.0561 - accuracy: 0.9818 - val_loss: 0.4044 - val_accuracy: 0.8854\n",
      "Epoch 32/50\n",
      "1719/1719 [==============================] - 4s 2ms/step - loss: 0.0542 - accuracy: 0.9823 - val_loss: 0.4448 - val_accuracy: 0.8798\n",
      "Epoch 33/50\n",
      "1719/1719 [==============================] - 4s 2ms/step - loss: 0.0544 - accuracy: 0.9822 - val_loss: 0.3956 - val_accuracy: 0.8986\n",
      "Epoch 34/50\n",
      "1719/1719 [==============================] - 4s 2ms/step - loss: 0.0527 - accuracy: 0.9829 - val_loss: 0.3990 - val_accuracy: 0.8958\n",
      "Epoch 35/50\n",
      "1719/1719 [==============================] - 4s 2ms/step - loss: 0.0522 - accuracy: 0.9827 - val_loss: 0.4003 - val_accuracy: 0.8948\n",
      "Epoch 36/50\n",
      "1719/1719 [==============================] - 4s 2ms/step - loss: 0.0511 - accuracy: 0.9837 - val_loss: 0.4674 - val_accuracy: 0.8914\n",
      "Epoch 37/50\n",
      "1719/1719 [==============================] - 4s 2ms/step - loss: 0.0524 - accuracy: 0.9824 - val_loss: 0.4053 - val_accuracy: 0.8964\n",
      "Epoch 38/50\n",
      "1719/1719 [==============================] - 4s 2ms/step - loss: 0.0491 - accuracy: 0.9843 - val_loss: 0.4395 - val_accuracy: 0.8908\n",
      "Epoch 39/50\n",
      "1719/1719 [==============================] - 4s 2ms/step - loss: 0.0490 - accuracy: 0.9842 - val_loss: 0.4575 - val_accuracy: 0.8930\n",
      "Epoch 40/50\n",
      "1719/1719 [==============================] - 4s 2ms/step - loss: 0.0463 - accuracy: 0.9854 - val_loss: 0.4208 - val_accuracy: 0.8930\n",
      "Epoch 41/50\n",
      "1719/1719 [==============================] - 4s 2ms/step - loss: 0.0467 - accuracy: 0.9844 - val_loss: 0.4043 - val_accuracy: 0.8970\n",
      "Epoch 42/50\n",
      "1719/1719 [==============================] - 4s 2ms/step - loss: 0.0465 - accuracy: 0.9848 - val_loss: 0.4206 - val_accuracy: 0.8946\n",
      "Epoch 43/50\n",
      "1719/1719 [==============================] - 4s 2ms/step - loss: 0.0454 - accuracy: 0.9853 - val_loss: 0.4154 - val_accuracy: 0.9018\n",
      "Epoch 44/50\n",
      "1719/1719 [==============================] - 4s 2ms/step - loss: 0.0443 - accuracy: 0.9853 - val_loss: 0.3987 - val_accuracy: 0.8960\n",
      "Epoch 45/50\n",
      "1719/1719 [==============================] - 4s 2ms/step - loss: 0.0419 - accuracy: 0.9866 - val_loss: 0.4126 - val_accuracy: 0.8944\n",
      "Epoch 46/50\n",
      "1719/1719 [==============================] - 4s 2ms/step - loss: 0.0419 - accuracy: 0.9869 - val_loss: 0.4168 - val_accuracy: 0.8978\n",
      "Epoch 47/50\n",
      "1719/1719 [==============================] - 4s 2ms/step - loss: 0.0407 - accuracy: 0.9873 - val_loss: 0.4348 - val_accuracy: 0.8944\n",
      "Epoch 48/50\n",
      "1719/1719 [==============================] - 4s 2ms/step - loss: 0.0404 - accuracy: 0.9873 - val_loss: 0.4336 - val_accuracy: 0.8924\n",
      "Epoch 49/50\n",
      "1719/1719 [==============================] - 4s 2ms/step - loss: 0.0411 - accuracy: 0.9869 - val_loss: 0.4336 - val_accuracy: 0.8974\n",
      "Epoch 50/50\n",
      "1719/1719 [==============================] - 4s 2ms/step - loss: 0.0383 - accuracy: 0.9884 - val_loss: 0.4641 - val_accuracy: 0.8866\n"
     ]
    }
   ],
   "source": [
    "history2 = model2.fit(X_train, y_train, batch_size=32, epochs=50,\n",
    "                    validation_data=(X_valid, y_valid))"
   ]
  },
  {
   "cell_type": "code",
   "execution_count": 91,
   "metadata": {},
   "outputs": [
    {
     "data": {
      "text/plain": [
       "{'verbose': 1, 'epochs': 50, 'steps': 1719}"
      ]
     },
     "execution_count": 91,
     "metadata": {},
     "output_type": "execute_result"
    }
   ],
   "source": [
    "history2.params"
   ]
  },
  {
   "cell_type": "code",
   "execution_count": 92,
   "metadata": {},
   "outputs": [
    {
     "data": {
      "image/png": "[encoded data removed]",
      "text/plain": [
       "<Figure size 576x360 with 1 Axes>"
      ]
     },
     "metadata": {
      "needs_background": "light"
     },
     "output_type": "display_data"
    }
   ],
   "source": [
    "pd.DataFrame(history2.history).plot(figsize=(8, 5))\n",
    "plt.grid(True)\n",
    "plt.gca().set_ylim(0, 1)\n",
    "plt.show()"
   ]
  },
  {
   "cell_type": "code",
   "execution_count": 93,
   "metadata": {},
   "outputs": [
    {
     "name": "stdout",
     "output_type": "stream",
     "text": [
      "313/313 [==============================] - 0s 1ms/step - loss: 0.5216 - accuracy: 0.8787\n"
     ]
    }
   ],
   "source": [
    "predict_test2=model2.evaluate(X_test, y_test)"
   ]
  },
  {
   "cell_type": "code",
   "execution_count": 94,
   "metadata": {},
   "outputs": [
    {
     "data": {
      "text/plain": [
       "array([[0., 0., 0., 0., 0., 0., 0., 0., 0., 1.],\n",
       "       [0., 0., 1., 0., 0., 0., 0., 0., 0., 0.],\n",
       "       [0., 1., 0., 0., 0., 0., 0., 0., 0., 0.]], dtype=float32)"
      ]
     },
     "execution_count": 94,
     "metadata": {},
     "output_type": "execute_result"
    }
   ],
   "source": [
    "y_proba = model2.predict(X_new)\n",
    "y_proba.round(2)"
   ]
  },
  {
   "cell_type": "code",
   "execution_count": 95,
   "metadata": {},
   "outputs": [
    {
     "data": {
      "text/plain": [
       "array([9, 2, 1], dtype=int64)"
      ]
     },
     "execution_count": 95,
     "metadata": {},
     "output_type": "execute_result"
    }
   ],
   "source": [
    "y_pred2 = model2.predict_classes(X_new)\n",
    "y_pred2"
   ]
  },
  {
   "cell_type": "code",
   "execution_count": 96,
   "metadata": {},
   "outputs": [
    {
     "data": {
      "text/plain": [
       "array(['Ankle boot', 'Pullover', 'Trouser'], dtype='<U11')"
      ]
     },
     "execution_count": 96,
     "metadata": {},
     "output_type": "execute_result"
    }
   ],
   "source": [
    "np.array(class_names)[y_pred2]"
   ]
  },
  {
   "cell_type": "markdown",
   "metadata": {},
   "source": [
    "###  model 3 (optimizer RMSpop)"
   ]
  },
  {
   "cell_type": "code",
   "execution_count": 50,
   "metadata": {},
   "outputs": [],
   "source": [
    "model3= keras.models.Sequential()\n",
    "model3.add(keras.layers.Flatten(input_shape=[28, 28]))\n",
    "model3.add(keras.layers.Dense(300, activation=\"relu\"))\n",
    "model3.add(keras.layers.Dense(100, activation=\"relu\"))\n",
    "model3.add(keras.layers.Dense(10, activation=\"softmax\"))"
   ]
  },
  {
   "cell_type": "code",
   "execution_count": 51,
   "metadata": {},
   "outputs": [
    {
     "data": {
      "text/plain": [
       "[<tensorflow.python.keras.layers.core.Flatten at 0x13a645d8648>,\n",
       " <tensorflow.python.keras.layers.core.Dense at 0x13a645d8f08>,\n",
       " <tensorflow.python.keras.layers.core.Dense at 0x13a6459fb48>,\n",
       " <tensorflow.python.keras.layers.core.Dense at 0x13a66400388>]"
      ]
     },
     "execution_count": 51,
     "metadata": {},
     "output_type": "execute_result"
    }
   ],
   "source": [
    "model3.layers"
   ]
  },
  {
   "cell_type": "code",
   "execution_count": 52,
   "metadata": {},
   "outputs": [
    {
     "name": "stdout",
     "output_type": "stream",
     "text": [
      "Model: \"sequential_2\"\n",
      "_________________________________________________________________\n",
      "Layer (type)                 Output Shape              Param #   \n",
      "=================================================================\n",
      "flatten_2 (Flatten)          (None, 784)               0         \n",
      "_________________________________________________________________\n",
      "dense_6 (Dense)              (None, 300)               235500    \n",
      "_________________________________________________________________\n",
      "dense_7 (Dense)              (None, 100)               30100     \n",
      "_________________________________________________________________\n",
      "dense_8 (Dense)              (None, 10)                1010      \n",
      "=================================================================\n",
      "Total params: 266,610\n",
      "Trainable params: 266,610\n",
      "Non-trainable params: 0\n",
      "_________________________________________________________________\n"
     ]
    }
   ],
   "source": [
    "model3.summary()"
   ]
  },
  {
   "cell_type": "code",
   "execution_count": 53,
   "metadata": {},
   "outputs": [],
   "source": [
    "hidden1_model3 = model3.layers[1]"
   ]
  },
  {
   "cell_type": "code",
   "execution_count": 54,
   "metadata": {},
   "outputs": [],
   "source": [
    "weights3, biases3 = hidden1_model3.get_weights()"
   ]
  },
  {
   "cell_type": "code",
   "execution_count": 55,
   "metadata": {},
   "outputs": [
    {
     "data": {
      "text/plain": [
       "array([[-0.03782111,  0.06320509, -0.01225249, ..., -0.07356012,\n",
       "         0.02368938, -0.01094083],\n",
       "       [-0.05922364,  0.00799278, -0.05094597, ..., -0.05446816,\n",
       "         0.04732507,  0.05880703],\n",
       "       [-0.01185513,  0.04220903,  0.06117986, ..., -0.04335006,\n",
       "        -0.0058448 , -0.03864067],\n",
       "       ...,\n",
       "       [-0.05937944, -0.00904763, -0.01944244, ..., -0.05272575,\n",
       "        -0.05599725,  0.00030936],\n",
       "       [-0.02397113, -0.07277533,  0.06415121, ...,  0.05758077,\n",
       "        -0.01754013,  0.07432958],\n",
       "       [-0.0457902 ,  0.05102524,  0.01342752, ...,  0.05236067,\n",
       "         0.01215655,  0.05117767]], dtype=float32)"
      ]
     },
     "execution_count": 55,
     "metadata": {},
     "output_type": "execute_result"
    }
   ],
   "source": [
    "weights3"
   ]
  },
  {
   "cell_type": "code",
   "execution_count": 56,
   "metadata": {},
   "outputs": [],
   "source": [
    "#with optimizer RMSprop\n",
    "model3.compile(loss=\"sparse_categorical_crossentropy\",\n",
    "              optimizer=\"RMSprop\",\n",
    "              metrics=[\"accuracy\"])"
   ]
  },
  {
   "cell_type": "code",
   "execution_count": 57,
   "metadata": {},
   "outputs": [
    {
     "name": "stdout",
     "output_type": "stream",
     "text": [
      "Epoch 1/30\n",
      "1834/1834 [==============================] - 6s 3ms/step - loss: 0.5043 - accuracy: 0.8187 - val_loss: 0.4511 - val_accuracy: 0.8502\n",
      "Epoch 2/30\n",
      "1834/1834 [==============================] - 6s 3ms/step - loss: 0.3942 - accuracy: 0.8604 - val_loss: 0.4700 - val_accuracy: 0.8544\n",
      "Epoch 3/30\n",
      "1834/1834 [==============================] - 6s 3ms/step - loss: 0.3745 - accuracy: 0.8703 - val_loss: 0.4197 - val_accuracy: 0.8556\n",
      "Epoch 4/30\n",
      "1834/1834 [==============================] - 6s 3ms/step - loss: 0.3628 - accuracy: 0.8742 - val_loss: 0.4496 - val_accuracy: 0.8608\n",
      "Epoch 5/30\n",
      "1834/1834 [==============================] - 6s 3ms/step - loss: 0.3536 - accuracy: 0.8800 - val_loss: 0.3783 - val_accuracy: 0.8842\n",
      "Epoch 6/30\n",
      "1834/1834 [==============================] - 6s 3ms/step - loss: 0.3444 - accuracy: 0.8827 - val_loss: 0.6420 - val_accuracy: 0.8422\n",
      "Epoch 7/30\n",
      "1834/1834 [==============================] - 5s 3ms/step - loss: 0.3396 - accuracy: 0.8850 - val_loss: 0.4313 - val_accuracy: 0.8826\n",
      "Epoch 8/30\n",
      "1834/1834 [==============================] - 6s 3ms/step - loss: 0.3342 - accuracy: 0.8873 - val_loss: 0.4461 - val_accuracy: 0.8796\n",
      "Epoch 9/30\n",
      "1834/1834 [==============================] - 6s 3ms/step - loss: 0.3285 - accuracy: 0.8912 - val_loss: 0.4738 - val_accuracy: 0.8864\n",
      "Epoch 10/30\n",
      "1834/1834 [==============================] - 6s 3ms/step - loss: 0.3216 - accuracy: 0.8949 - val_loss: 0.5222 - val_accuracy: 0.8732\n",
      "Epoch 11/30\n",
      "1834/1834 [==============================] - 6s 3ms/step - loss: 0.3203 - accuracy: 0.8950 - val_loss: 0.4663 - val_accuracy: 0.8804\n",
      "Epoch 12/30\n",
      "1834/1834 [==============================] - 6s 3ms/step - loss: 0.3127 - accuracy: 0.8950 - val_loss: 0.5683 - val_accuracy: 0.8748\n",
      "Epoch 13/30\n",
      "1834/1834 [==============================] - 6s 3ms/step - loss: 0.3094 - accuracy: 0.8970 - val_loss: 0.6158 - val_accuracy: 0.8600\n",
      "Epoch 14/30\n",
      "1834/1834 [==============================] - 6s 3ms/step - loss: 0.3055 - accuracy: 0.8983 - val_loss: 0.5369 - val_accuracy: 0.8788\n",
      "Epoch 15/30\n",
      "1834/1834 [==============================] - 6s 3ms/step - loss: 0.3006 - accuracy: 0.9016 - val_loss: 0.6680 - val_accuracy: 0.8612\n",
      "Epoch 16/30\n",
      "1834/1834 [==============================] - 6s 3ms/step - loss: 0.3025 - accuracy: 0.9022 - val_loss: 0.6125 - val_accuracy: 0.8910\n",
      "Epoch 17/30\n",
      "1834/1834 [==============================] - 6s 3ms/step - loss: 0.2966 - accuracy: 0.9041 - val_loss: 0.5716 - val_accuracy: 0.8880\n",
      "Epoch 18/30\n",
      "1834/1834 [==============================] - 6s 3ms/step - loss: 0.2923 - accuracy: 0.9051 - val_loss: 0.6932 - val_accuracy: 0.8806\n",
      "Epoch 19/30\n",
      "1834/1834 [==============================] - 6s 3ms/step - loss: 0.2859 - accuracy: 0.9055 - val_loss: 0.8631 - val_accuracy: 0.8610\n",
      "Epoch 20/30\n",
      "1834/1834 [==============================] - 6s 3ms/step - loss: 0.2848 - accuracy: 0.9083 - val_loss: 0.7115 - val_accuracy: 0.8864\n",
      "Epoch 21/30\n",
      "1834/1834 [==============================] - 6s 3ms/step - loss: 0.2907 - accuracy: 0.9074 - val_loss: 0.6566 - val_accuracy: 0.8754\n",
      "Epoch 22/30\n",
      "1834/1834 [==============================] - 6s 3ms/step - loss: 0.2867 - accuracy: 0.9116 - val_loss: 0.7930 - val_accuracy: 0.8840\n",
      "Epoch 23/30\n",
      "1834/1834 [==============================] - 6s 3ms/step - loss: 0.2813 - accuracy: 0.9108 - val_loss: 0.7521 - val_accuracy: 0.8810\n",
      "Epoch 24/30\n",
      "1834/1834 [==============================] - 6s 3ms/step - loss: 0.2784 - accuracy: 0.9116 - val_loss: 0.7767 - val_accuracy: 0.8660\n",
      "Epoch 25/30\n",
      "1834/1834 [==============================] - 6s 3ms/step - loss: 0.2753 - accuracy: 0.9129 - val_loss: 0.8382 - val_accuracy: 0.8854\n",
      "Epoch 26/30\n",
      "1834/1834 [==============================] - 6s 3ms/step - loss: 0.2711 - accuracy: 0.9149 - val_loss: 0.9180 - val_accuracy: 0.8838\n",
      "Epoch 27/30\n",
      "1834/1834 [==============================] - 6s 3ms/step - loss: 0.2655 - accuracy: 0.9157 - val_loss: 0.8593 - val_accuracy: 0.8856\n",
      "Epoch 28/30\n",
      "1834/1834 [==============================] - 6s 3ms/step - loss: 0.2650 - accuracy: 0.9163 - val_loss: 0.8767 - val_accuracy: 0.8914\n",
      "Epoch 29/30\n",
      "1834/1834 [==============================] - 6s 3ms/step - loss: 0.2642 - accuracy: 0.9177 - val_loss: 0.9348 - val_accuracy: 0.8868\n",
      "Epoch 30/30\n",
      "1834/1834 [==============================] - 6s 3ms/step - loss: 0.2577 - accuracy: 0.9176 - val_loss: 0.8911 - val_accuracy: 0.8902\n"
     ]
    }
   ],
   "source": [
    "history3 = model3.fit(X_train, y_train, batch_size=30, epochs=30,\n",
    "                    validation_data=(X_valid, y_valid))"
   ]
  },
  {
   "cell_type": "code",
   "execution_count": 58,
   "metadata": {},
   "outputs": [
    {
     "data": {
      "image/png": "[encoded data removed]",
      "text/plain": [
       "<Figure size 576x360 with 1 Axes>"
      ]
     },
     "metadata": {
      "needs_background": "light"
     },
     "output_type": "display_data"
    }
   ],
   "source": [
    "pd.DataFrame(history3.history).plot(figsize=(8, 5))\n",
    "plt.grid(True)\n",
    "plt.gca().set_ylim(0, 1)\n",
    "plt.show()"
   ]
  },
  {
   "cell_type": "code",
   "execution_count": 59,
   "metadata": {},
   "outputs": [
    {
     "name": "stdout",
     "output_type": "stream",
     "text": [
      "313/313 [==============================] - 0s 1ms/step - loss: 0.8071 - accuracy: 0.8777\n"
     ]
    }
   ],
   "source": [
    "predict_test3=model3.evaluate(X_test, y_test)"
   ]
  },
  {
   "cell_type": "code",
   "execution_count": 60,
   "metadata": {},
   "outputs": [
    {
     "data": {
      "text/plain": [
       "array([9, 2, 1], dtype=int64)"
      ]
     },
     "execution_count": 60,
     "metadata": {},
     "output_type": "execute_result"
    }
   ],
   "source": [
    "y_pred3 = model3.predict_classes(X_new)\n",
    "y_pred3"
   ]
  },
  {
   "cell_type": "code",
   "execution_count": 61,
   "metadata": {},
   "outputs": [
    {
     "data": {
      "text/plain": [
       "array([[0., 0., 0., 0., 0., 0., 0., 0., 0., 1.],\n",
       "       [0., 0., 1., 0., 0., 0., 0., 0., 0., 0.],\n",
       "       [0., 1., 0., 0., 0., 0., 0., 0., 0., 0.]], dtype=float32)"
      ]
     },
     "execution_count": 61,
     "metadata": {},
     "output_type": "execute_result"
    }
   ],
   "source": [
    "y_proba = model3.predict(X_new)\n",
    "y_proba.round(2)"
   ]
  },
  {
   "cell_type": "code",
   "execution_count": 62,
   "metadata": {},
   "outputs": [
    {
     "data": {
      "text/plain": [
       "array(['Ankle boot', 'Pullover', 'Trouser'], dtype='<U11')"
      ]
     },
     "execution_count": 62,
     "metadata": {},
     "output_type": "execute_result"
    }
   ],
   "source": [
    "np.array(class_names)[y_pred3]"
   ]
  },
  {
   "cell_type": "markdown",
   "metadata": {},
   "source": [
    "* en changeant les parametres des types de l'optimizer , et en fixant les parametres restants, on observe une accuracy plus grande chez l'optimizer ADAM.Donc on peut dire que Adam est le performant.(accuracy de Adam=0.89, l'accuracy de SGD =0.88, accuracy de RMSprop=0.87).\n",
    "* en changeant le batch_size et en fixant les parametres restant(optimizer=SGD, epochs=30),l'accuracy s'augmente de 0.8855 à 0.8872, ce qui implique l'amélioration des performances.\n",
    "* en changeant l epochs et en fixant les parametres restant(optimizer=SGD, batch_size=32),l'accuracy se diminue de 0.8855 à 0.8772, ce qui implique moins des performances."
   ]
  },
  {
   "cell_type": "markdown",
   "metadata": {},
   "source": [
    "## Model 4 avec plus de couches (layers) "
   ]
  },
  {
   "cell_type": "code",
   "execution_count": 97,
   "metadata": {},
   "outputs": [],
   "source": [
    "model4 = keras.models.Sequential()\n",
    "model4.add(keras.layers.Flatten(input_shape=[28, 28]))\n",
    "model4.add(keras.layers.Dense(300, activation=\"relu\"))\n",
    "model4.add(keras.layers.Dense(300, activation=\"relu\"))\n",
    "model4.add(keras.layers.Dense(100, activation=\"relu\"))\n",
    "model4.add(keras.layers.Dense(10, activation=\"softmax\"))"
   ]
  },
  {
   "cell_type": "code",
   "execution_count": 98,
   "metadata": {},
   "outputs": [],
   "source": [
    "#keras.backend.clear_session()\n",
    "np.random.seed(42)"
   ]
  },
  {
   "cell_type": "code",
   "execution_count": 99,
   "metadata": {},
   "outputs": [],
   "source": [
    "hidden1_model4 = model4.layers[1]"
   ]
  },
  {
   "cell_type": "code",
   "execution_count": 100,
   "metadata": {},
   "outputs": [],
   "source": [
    "weights4, biases4 = hidden1_model4.get_weights()"
   ]
  },
  {
   "cell_type": "code",
   "execution_count": 101,
   "metadata": {},
   "outputs": [
    {
     "data": {
      "text/plain": [
       "array([[ 0.05987516,  0.02091222, -0.01086789, ..., -0.03488328,\n",
       "         0.04373468,  0.03649955],\n",
       "       [ 0.02633057,  0.05588935, -0.05230799, ..., -0.01614593,\n",
       "         0.06815478,  0.00610698],\n",
       "       [-0.00019272, -0.03204717,  0.0416799 , ..., -0.001811  ,\n",
       "        -0.01104181,  0.01099999],\n",
       "       ...,\n",
       "       [-0.00749256, -0.00707854,  0.03042454, ...,  0.05118784,\n",
       "        -0.02281225, -0.01727326],\n",
       "       [-0.03870315,  0.02787741,  0.0280251 , ...,  0.06430672,\n",
       "        -0.0502013 ,  0.04102915],\n",
       "       [ 0.05665213, -0.00992224, -0.059856  , ...,  0.03527068,\n",
       "        -0.02873825,  0.02416011]], dtype=float32)"
      ]
     },
     "execution_count": 101,
     "metadata": {},
     "output_type": "execute_result"
    }
   ],
   "source": [
    "weights4"
   ]
  },
  {
   "cell_type": "code",
   "execution_count": 104,
   "metadata": {},
   "outputs": [],
   "source": [
    "model4.compile(loss=\"sparse_categorical_crossentropy\",\n",
    "              optimizer=\"SGD\",\n",
    "              metrics=[\"accuracy\"])"
   ]
  },
  {
   "cell_type": "code",
   "execution_count": 105,
   "metadata": {},
   "outputs": [
    {
     "name": "stdout",
     "output_type": "stream",
     "text": [
      "Epoch 1/30\n",
      "1719/1719 [==============================] - 5s 3ms/step - loss: 0.0925 - accuracy: 0.9627 - val_loss: 0.4602 - val_accuracy: 0.9030\n",
      "Epoch 2/30\n",
      "1719/1719 [==============================] - 4s 3ms/step - loss: 0.0795 - accuracy: 0.9679 - val_loss: 0.4744 - val_accuracy: 0.9036\n",
      "Epoch 3/30\n",
      "1719/1719 [==============================] - 5s 3ms/step - loss: 0.0756 - accuracy: 0.9699 - val_loss: 0.4857 - val_accuracy: 0.9042\n",
      "Epoch 4/30\n",
      "1719/1719 [==============================] - 5s 3ms/step - loss: 0.0724 - accuracy: 0.9707 - val_loss: 0.5048 - val_accuracy: 0.9022\n",
      "Epoch 5/30\n",
      "1719/1719 [==============================] - 5s 3ms/step - loss: 0.0704 - accuracy: 0.9714 - val_loss: 0.5117 - val_accuracy: 0.9038\n",
      "Epoch 6/30\n",
      "1719/1719 [==============================] - 5s 3ms/step - loss: 0.0686 - accuracy: 0.9724 - val_loss: 0.5185 - val_accuracy: 0.9030\n",
      "Epoch 7/30\n",
      "1719/1719 [==============================] - 4s 3ms/step - loss: 0.0669 - accuracy: 0.9733 - val_loss: 0.5271 - val_accuracy: 0.9044\n",
      "Epoch 8/30\n",
      "1719/1719 [==============================] - 4s 3ms/step - loss: 0.0653 - accuracy: 0.9736 - val_loss: 0.5371 - val_accuracy: 0.9028\n",
      "Epoch 9/30\n",
      "1719/1719 [==============================] - 5s 3ms/step - loss: 0.0641 - accuracy: 0.9742 - val_loss: 0.5430 - val_accuracy: 0.9036\n",
      "Epoch 10/30\n",
      "1719/1719 [==============================] - 5s 3ms/step - loss: 0.0629 - accuracy: 0.9747 - val_loss: 0.5548 - val_accuracy: 0.9042\n",
      "Epoch 11/30\n",
      "1719/1719 [==============================] - 4s 3ms/step - loss: 0.0616 - accuracy: 0.9755 - val_loss: 0.5584 - val_accuracy: 0.9038\n",
      "Epoch 12/30\n",
      "1719/1719 [==============================] - 4s 3ms/step - loss: 0.0606 - accuracy: 0.9757 - val_loss: 0.5715 - val_accuracy: 0.9048\n",
      "Epoch 13/30\n",
      "1719/1719 [==============================] - 4s 3ms/step - loss: 0.0596 - accuracy: 0.9765 - val_loss: 0.5735 - val_accuracy: 0.9022\n",
      "Epoch 14/30\n",
      "1719/1719 [==============================] - 4s 3ms/step - loss: 0.0586 - accuracy: 0.9769 - val_loss: 0.5809 - val_accuracy: 0.9036\n",
      "Epoch 15/30\n",
      "1719/1719 [==============================] - 4s 3ms/step - loss: 0.0578 - accuracy: 0.9769 - val_loss: 0.5865 - val_accuracy: 0.9044\n",
      "Epoch 16/30\n",
      "1719/1719 [==============================] - 4s 3ms/step - loss: 0.0567 - accuracy: 0.9774 - val_loss: 0.5918 - val_accuracy: 0.9050\n",
      "Epoch 17/30\n",
      "1719/1719 [==============================] - 5s 3ms/step - loss: 0.0557 - accuracy: 0.9779 - val_loss: 0.5973 - val_accuracy: 0.9056\n",
      "Epoch 18/30\n",
      "1719/1719 [==============================] - 5s 3ms/step - loss: 0.0548 - accuracy: 0.9783 - val_loss: 0.6043 - val_accuracy: 0.9018\n",
      "Epoch 19/30\n",
      "1719/1719 [==============================] - 5s 3ms/step - loss: 0.0542 - accuracy: 0.9792 - val_loss: 0.6199 - val_accuracy: 0.9022\n",
      "Epoch 20/30\n",
      "1719/1719 [==============================] - 5s 3ms/step - loss: 0.0532 - accuracy: 0.9789 - val_loss: 0.6222 - val_accuracy: 0.9034\n",
      "Epoch 21/30\n",
      "1719/1719 [==============================] - 5s 3ms/step - loss: 0.0525 - accuracy: 0.9795 - val_loss: 0.6191 - val_accuracy: 0.9040\n",
      "Epoch 22/30\n",
      "1719/1719 [==============================] - 4s 3ms/step - loss: 0.0516 - accuracy: 0.9799 - val_loss: 0.6339 - val_accuracy: 0.9020\n",
      "Epoch 23/30\n",
      "1719/1719 [==============================] - 4s 2ms/step - loss: 0.0507 - accuracy: 0.9806 - val_loss: 0.6331 - val_accuracy: 0.9038\n",
      "Epoch 24/30\n",
      "1719/1719 [==============================] - 5s 3ms/step - loss: 0.0499 - accuracy: 0.9808 - val_loss: 0.6451 - val_accuracy: 0.9006\n",
      "Epoch 25/30\n",
      "1719/1719 [==============================] - 4s 3ms/step - loss: 0.0493 - accuracy: 0.9815 - val_loss: 0.6529 - val_accuracy: 0.9026\n",
      "Epoch 26/30\n",
      "1719/1719 [==============================] - 4s 3ms/step - loss: 0.0485 - accuracy: 0.9816 - val_loss: 0.6616 - val_accuracy: 0.9026\n",
      "Epoch 27/30\n",
      "1719/1719 [==============================] - 4s 3ms/step - loss: 0.0478 - accuracy: 0.9817 - val_loss: 0.6656 - val_accuracy: 0.9020\n",
      "Epoch 28/30\n",
      "1719/1719 [==============================] - 4s 3ms/step - loss: 0.0470 - accuracy: 0.9818 - val_loss: 0.6718 - val_accuracy: 0.9030\n",
      "Epoch 29/30\n",
      "1719/1719 [==============================] - 4s 3ms/step - loss: 0.0464 - accuracy: 0.9826 - val_loss: 0.6787 - val_accuracy: 0.9020\n",
      "Epoch 30/30\n",
      "1719/1719 [==============================] - 4s 3ms/step - loss: 0.0457 - accuracy: 0.9829 - val_loss: 0.6887 - val_accuracy: 0.9018\n"
     ]
    }
   ],
   "source": [
    "history4 = model4.fit(X_train, y_train, batch_size=32, epochs=30,\n",
    "                    validation_data=(X_valid, y_valid))"
   ]
  },
  {
   "cell_type": "code",
   "execution_count": 106,
   "metadata": {},
   "outputs": [
    {
     "data": {
      "image/png": "[encoded data removed]",
      "text/plain": [
       "<Figure size 576x360 with 1 Axes>"
      ]
     },
     "metadata": {
      "needs_background": "light"
     },
     "output_type": "display_data"
    }
   ],
   "source": [
    "pd.DataFrame(history4.history).plot(figsize=(8, 5))\n",
    "plt.grid(True)\n",
    "plt.gca().set_ylim(0, 1)\n",
    "plt.show()"
   ]
  },
  {
   "cell_type": "code",
   "execution_count": 107,
   "metadata": {},
   "outputs": [
    {
     "name": "stdout",
     "output_type": "stream",
     "text": [
      "313/313 [==============================] - 1s 2ms/step - loss: 0.7387 - accuracy: 0.8966\n"
     ]
    }
   ],
   "source": [
    "predict_test4=model4.evaluate(X_test, y_test)"
   ]
  },
  {
   "cell_type": "code",
   "execution_count": 108,
   "metadata": {},
   "outputs": [
    {
     "data": {
      "text/plain": [
       "array([[0.  , 0.  , 0.  , 0.  , 0.  , 0.  , 0.  , 0.  , 0.  , 1.  ],\n",
       "       [0.  , 0.  , 0.99, 0.  , 0.01, 0.  , 0.  , 0.  , 0.  , 0.  ],\n",
       "       [0.  , 1.  , 0.  , 0.  , 0.  , 0.  , 0.  , 0.  , 0.  , 0.  ]],\n",
       "      dtype=float32)"
      ]
     },
     "execution_count": 108,
     "metadata": {},
     "output_type": "execute_result"
    }
   ],
   "source": [
    "y_proba = model4.predict(X_new)\n",
    "y_proba.round(2)"
   ]
  },
  {
   "cell_type": "code",
   "execution_count": 109,
   "metadata": {},
   "outputs": [
    {
     "data": {
      "text/plain": [
       "array([9, 2, 1], dtype=int64)"
      ]
     },
     "execution_count": 109,
     "metadata": {},
     "output_type": "execute_result"
    }
   ],
   "source": [
    "y_pred4 = model4.predict_classes(X_new)\n",
    "y_pred4"
   ]
  },
  {
   "cell_type": "code",
   "execution_count": 110,
   "metadata": {},
   "outputs": [
    {
     "data": {
      "text/plain": [
       "array(['Ankle boot', 'Pullover', 'Trouser'], dtype='<U11')"
      ]
     },
     "execution_count": 110,
     "metadata": {},
     "output_type": "execute_result"
    }
   ],
   "source": [
    "np.array(class_names)[y_pred4]"
   ]
  },
  {
   "cell_type": "markdown",
   "metadata": {},
   "source": [
    "Nous avons ajouté une couche cachée de 300 neurones , on remarque que l'accuracy est augmentée de 0.8852 à 0.89 ."
   ]
  },
  {
   "cell_type": "markdown",
   "metadata": {},
   "source": [
    "## comparaison entre les 4 modèles"
   ]
  },
  {
   "cell_type": "code",
   "execution_count": 114,
   "metadata": {},
   "outputs": [],
   "source": [
    "comp=[]\n",
    "comp.append(predict_test1[1])\n",
    "comp.append(predict_test2[1])\n",
    "comp.append(predict_test3[1])\n",
    "comp.append(predict_test4[1])"
   ]
  },
  {
   "cell_type": "code",
   "execution_count": 115,
   "metadata": {},
   "outputs": [
    {
     "data": {
      "text/plain": [
       "[0.8932999968528748,\n",
       " 0.8787000179290771,\n",
       " 0.8776999711990356,\n",
       " 0.8966000080108643]"
      ]
     },
     "execution_count": 115,
     "metadata": {},
     "output_type": "execute_result"
    }
   ],
   "source": [
    "comp"
   ]
  }
 ],
 "metadata": {
  "kernelspec": {
   "display_name": "Python 3",
   "language": "python",
   "name": "python3"
  },
  "language_info": {
   "codemirror_mode": {
    "name": "ipython",
    "version": 3
   },
   "file_extension": ".py",
   "mimetype": "text/x-python",
   "name": "python",
   "nbconvert_exporter": "python",
   "pygments_lexer": "ipython3",
   "version": "3.7.6"
  }
 },
 "nbformat": 4,
 "nbformat_minor": 4
}
